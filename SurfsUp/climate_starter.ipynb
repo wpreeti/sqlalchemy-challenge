{
 "cells": [
  {
   "cell_type": "code",
   "execution_count": null,
   "metadata": {},
   "outputs": [],
   "source": [
    "%matplotlib inline\n",
    "from matplotlib import style\n",
    "style.use('fivethirtyeight')\n",
    "import matplotlib.pyplot as plt"
   ]
  },
  {
   "cell_type": "code",
   "execution_count": 17,
   "metadata": {},
   "outputs": [],
   "source": [
    "import numpy as np\n",
    "import pandas as pd\n",
    "import datetime as dt"
   ]
  },
  {
   "cell_type": "markdown",
   "metadata": {},
   "source": [
    "# Reflect Tables into SQLAlchemy ORM"
   ]
  },
  {
   "cell_type": "code",
   "execution_count": 18,
   "metadata": {},
   "outputs": [],
   "source": [
    "# Python SQL toolkit and Object Relational Mapper\n",
    "import sqlalchemy\n",
    "from sqlalchemy.ext.automap import automap_base\n",
    "from sqlalchemy.orm import Session\n",
    "from sqlalchemy import create_engine, func"
   ]
  },
  {
   "cell_type": "code",
   "execution_count": 20,
   "metadata": {},
   "outputs": [],
   "source": [
    "# create engine to hawaii.sqlite\n",
    "engine = create_engine(\"sqlite:///Resources/hawaii.sqlite\")"
   ]
  },
  {
   "cell_type": "code",
   "execution_count": 21,
   "metadata": {},
   "outputs": [],
   "source": [
    "# reflect an existing database into a new model\n",
    "\n",
    "Base = automap_base()\n",
    "\n",
    "# reflect the tables\n",
    "\n",
    "Base.prepare(engine, reflect=True)\n"
   ]
  },
  {
   "cell_type": "code",
   "execution_count": 23,
   "metadata": {},
   "outputs": [
    {
     "data": {
      "text/plain": [
       "['measurement', 'station']"
      ]
     },
     "execution_count": 23,
     "metadata": {},
     "output_type": "execute_result"
    }
   ],
   "source": [
    "# View all of the classes that automap found\n",
    "Base.classes.keys()"
   ]
  },
  {
   "cell_type": "code",
   "execution_count": 26,
   "metadata": {},
   "outputs": [],
   "source": [
    "# Save references to each table\n",
    "Measurement = Base.classes.measurement\n",
    "Station = Base.classes.station"
   ]
  },
  {
   "cell_type": "code",
   "execution_count": 27,
   "metadata": {},
   "outputs": [],
   "source": [
    "# Create our session (link) from Python to the DB\n",
    "session = Session(engine)"
   ]
  },
  {
   "cell_type": "markdown",
   "metadata": {},
   "source": [
    "# Exploratory Precipitation Analysis"
   ]
  },
  {
   "cell_type": "code",
   "execution_count": 28,
   "metadata": {},
   "outputs": [
    {
     "data": {
      "text/plain": [
       "datetime.datetime(2017, 8, 23, 0, 0)"
      ]
     },
     "execution_count": 28,
     "metadata": {},
     "output_type": "execute_result"
    }
   ],
   "source": [
    "# Find the most recent date in the data set.\n",
    "recentdate= session.query(func.max(Measurement.date)).first()\n",
    "\n",
    "therecentdate=dt.datetime.strptime(recentdate[0], '%Y-%m-%d')\n",
    "therecentdate"
   ]
  },
  {
   "cell_type": "code",
   "execution_count": 29,
   "metadata": {},
   "outputs": [
    {
     "data": {
      "text/html": [
       "<div>\n",
       "<style scoped>\n",
       "    .dataframe tbody tr th:only-of-type {\n",
       "        vertical-align: middle;\n",
       "    }\n",
       "\n",
       "    .dataframe tbody tr th {\n",
       "        vertical-align: top;\n",
       "    }\n",
       "\n",
       "    .dataframe thead th {\n",
       "        text-align: right;\n",
       "    }\n",
       "</style>\n",
       "<table border=\"1\" class=\"dataframe\">\n",
       "  <thead>\n",
       "    <tr style=\"text-align: right;\">\n",
       "      <th></th>\n",
       "      <th>date</th>\n",
       "      <th>precipitation</th>\n",
       "    </tr>\n",
       "  </thead>\n",
       "  <tbody>\n",
       "    <tr>\n",
       "      <th>0</th>\n",
       "      <td>2016-08-23</td>\n",
       "      <td>0.00</td>\n",
       "    </tr>\n",
       "    <tr>\n",
       "      <th>1</th>\n",
       "      <td>2016-08-23</td>\n",
       "      <td>NaN</td>\n",
       "    </tr>\n",
       "    <tr>\n",
       "      <th>2</th>\n",
       "      <td>2016-08-23</td>\n",
       "      <td>1.79</td>\n",
       "    </tr>\n",
       "    <tr>\n",
       "      <th>3</th>\n",
       "      <td>2016-08-23</td>\n",
       "      <td>0.05</td>\n",
       "    </tr>\n",
       "    <tr>\n",
       "      <th>4</th>\n",
       "      <td>2016-08-23</td>\n",
       "      <td>0.15</td>\n",
       "    </tr>\n",
       "    <tr>\n",
       "      <th>...</th>\n",
       "      <td>...</td>\n",
       "      <td>...</td>\n",
       "    </tr>\n",
       "    <tr>\n",
       "      <th>2225</th>\n",
       "      <td>2017-08-22</td>\n",
       "      <td>0.00</td>\n",
       "    </tr>\n",
       "    <tr>\n",
       "      <th>2226</th>\n",
       "      <td>2017-08-23</td>\n",
       "      <td>0.00</td>\n",
       "    </tr>\n",
       "    <tr>\n",
       "      <th>2227</th>\n",
       "      <td>2017-08-23</td>\n",
       "      <td>0.00</td>\n",
       "    </tr>\n",
       "    <tr>\n",
       "      <th>2228</th>\n",
       "      <td>2017-08-23</td>\n",
       "      <td>0.08</td>\n",
       "    </tr>\n",
       "    <tr>\n",
       "      <th>2229</th>\n",
       "      <td>2017-08-23</td>\n",
       "      <td>0.45</td>\n",
       "    </tr>\n",
       "  </tbody>\n",
       "</table>\n",
       "<p>2230 rows × 2 columns</p>\n",
       "</div>"
      ],
      "text/plain": [
       "            date  precipitation\n",
       "0     2016-08-23           0.00\n",
       "1     2016-08-23            NaN\n",
       "2     2016-08-23           1.79\n",
       "3     2016-08-23           0.05\n",
       "4     2016-08-23           0.15\n",
       "...          ...            ...\n",
       "2225  2017-08-22           0.00\n",
       "2226  2017-08-23           0.00\n",
       "2227  2017-08-23           0.00\n",
       "2228  2017-08-23           0.08\n",
       "2229  2017-08-23           0.45\n",
       "\n",
       "[2230 rows x 2 columns]"
      ]
     },
     "execution_count": 29,
     "metadata": {},
     "output_type": "execute_result"
    }
   ],
   "source": [
    "# Design a query to retrieve the last 12 months of precipitation data and plot the results. \n",
    "# Starting from the most recent data point in the database. \n",
    "\n",
    "# Calculate the date one year from the last date in data set.\n",
    "year_ago = dt.date(year=therecentdate.year - 1, month=therecentdate.month, day=therecentdate.day)\n",
    "year_ago\n",
    "\n",
    "\n",
    "# Perform a query to retrieve the data and precipitation scores\n",
    "ayear= session.query(Measurement.date,Measurement.prcp).filter(Measurement.date>=year_ago)\n",
    "\n",
    "# Save the query results as a Pandas DataFrame. Explicitly set the column names\n",
    "\n",
    "ayear_df=pd.DataFrame(ayear,columns=['date','precipitation'])\n",
    "\n",
    "# Sort the dataframe by date\n",
    "ayear_df.sort_values('date',inplace=True)\n",
    "ayear_df.reset_index(drop=True)\n",
    "\n",
    "\n"
   ]
  },
  {
   "cell_type": "code",
   "execution_count": 31,
   "metadata": {},
   "outputs": [
    {
     "data": {
      "image/png": "[encoded data removed]",
      "text/plain": [
       "<Figure size 640x480 with 1 Axes>"
      ]
     },
     "metadata": {},
     "output_type": "display_data"
    }
   ],
   "source": [
    "# Use Pandas Plotting with Matplotlib to plot the data\n",
    "\n",
    "plt.plot(ayear_df['date'],ayear_df['precipitation'])\n",
    "\n",
    "num_dates = len(ayear_df['date'])\n",
    "step = num_dates // 4  \n",
    "\n",
    "plt.xticks(ayear_df['date'][::step], labels=[date for date in ayear_df['date'][::step]], rotation=90)\n",
    "plt.ylabel('Precipitation')\n",
    "plt.xlabel('date')\n",
    "\n",
    "plt.grid(True)\n",
    "plt.legend(['precipitation'], loc='upper right')\n",
    "plt.show()"
   ]
  },
  {
   "cell_type": "code",
   "execution_count": 33,
   "metadata": {},
   "outputs": [
    {
     "data": {
      "text/html": [
       "<div>\n",
       "<style scoped>\n",
       "    .dataframe tbody tr th:only-of-type {\n",
       "        vertical-align: middle;\n",
       "    }\n",
       "\n",
       "    .dataframe tbody tr th {\n",
       "        vertical-align: top;\n",
       "    }\n",
       "\n",
       "    .dataframe thead th {\n",
       "        text-align: right;\n",
       "    }\n",
       "</style>\n",
       "<table border=\"1\" class=\"dataframe\">\n",
       "  <thead>\n",
       "    <tr style=\"text-align: right;\">\n",
       "      <th></th>\n",
       "      <th>precipitation</th>\n",
       "    </tr>\n",
       "  </thead>\n",
       "  <tbody>\n",
       "    <tr>\n",
       "      <th>count</th>\n",
       "      <td>2021.000000</td>\n",
       "    </tr>\n",
       "    <tr>\n",
       "      <th>mean</th>\n",
       "      <td>0.177279</td>\n",
       "    </tr>\n",
       "    <tr>\n",
       "      <th>std</th>\n",
       "      <td>0.461190</td>\n",
       "    </tr>\n",
       "    <tr>\n",
       "      <th>min</th>\n",
       "      <td>0.000000</td>\n",
       "    </tr>\n",
       "    <tr>\n",
       "      <th>25%</th>\n",
       "      <td>0.000000</td>\n",
       "    </tr>\n",
       "    <tr>\n",
       "      <th>50%</th>\n",
       "      <td>0.020000</td>\n",
       "    </tr>\n",
       "    <tr>\n",
       "      <th>75%</th>\n",
       "      <td>0.130000</td>\n",
       "    </tr>\n",
       "    <tr>\n",
       "      <th>max</th>\n",
       "      <td>6.700000</td>\n",
       "    </tr>\n",
       "  </tbody>\n",
       "</table>\n",
       "</div>"
      ],
      "text/plain": [
       "       precipitation\n",
       "count    2021.000000\n",
       "mean        0.177279\n",
       "std         0.461190\n",
       "min         0.000000\n",
       "25%         0.000000\n",
       "50%         0.020000\n",
       "75%         0.130000\n",
       "max         6.700000"
      ]
     },
     "execution_count": 33,
     "metadata": {},
     "output_type": "execute_result"
    }
   ],
   "source": [
    "# Use Pandas to calculate the summary statistics for the precipitation data\n",
    "ayear_df.describe()"
   ]
  },
  {
   "cell_type": "markdown",
   "metadata": {},
   "source": [
    "# Exploratory Station Analysis"
   ]
  },
  {
   "cell_type": "code",
   "execution_count": 32,
   "metadata": {},
   "outputs": [
    {
     "data": {
      "text/plain": [
       "9"
      ]
     },
     "execution_count": 32,
     "metadata": {},
     "output_type": "execute_result"
    }
   ],
   "source": [
    "# Design a query to calculate the total number of stations in the dataset\n",
    "totalStation= session.query(Measurement.station).distinct().count()\n",
    "totalStation"
   ]
  },
  {
   "cell_type": "code",
   "execution_count": 34,
   "metadata": {},
   "outputs": [
    {
     "data": {
      "text/plain": [
       "[('USC00519281', 2772),\n",
       " ('USC00519397', 2724),\n",
       " ('USC00513117', 2709),\n",
       " ('USC00519523', 2669),\n",
       " ('USC00516128', 2612),\n",
       " ('USC00514830', 2202),\n",
       " ('USC00511918', 1979),\n",
       " ('USC00517948', 1372),\n",
       " ('USC00518838', 511)]"
      ]
     },
     "execution_count": 34,
     "metadata": {},
     "output_type": "execute_result"
    }
   ],
   "source": [
    "# Design a query to find the most active stations (i.e. which stations have the most rows?)\n",
    "# List the stations and their counts in descending order.\n",
    "mostActive= session.query(Measurement.station, func.count(Measurement.station)).\\\n",
    "    group_by(Measurement.station).\\\n",
    "    order_by((func.count(Measurement.station)).desc()).\\\n",
    "    all()\n",
    "mostActive"
   ]
  },
  {
   "cell_type": "code",
   "execution_count": 35,
   "metadata": {},
   "outputs": [
    {
     "data": {
      "text/plain": [
       "(54.0, 85.0, 71.66378066378067)"
      ]
     },
     "execution_count": 35,
     "metadata": {},
     "output_type": "execute_result"
    }
   ],
   "source": [
    "# Using the most active station id from the previous query, calculate the lowest, highest, and average temperature.\n",
    "activestationid=mostActive[0][0]\n",
    "mostActiveSta=session.query(func.min(Measurement.tobs),func.max(Measurement.tobs),func.avg(Measurement.tobs)).\\\n",
    "    filter(Measurement.station==activestationid).first()\n",
    "mostActiveSta"
   ]
  },
  {
   "cell_type": "code",
   "execution_count": 36,
   "metadata": {},
   "outputs": [
    {
     "data": {
      "text/plain": [
       "[80.0,\n",
       " 79.0,\n",
       " 81.0,\n",
       " 79.0,\n",
       " 78.0,\n",
       " 77.0,\n",
       " 77.0,\n",
       " 80.0,\n",
       " 80.0,\n",
       " 75.0,\n",
       " 73.0,\n",
       " 78.0,\n",
       " 77.0,\n",
       " 78.0,\n",
       " 80.0,\n",
       " 80.0,\n",
       " 78.0,\n",
       " 78.0,\n",
       " 78.0,\n",
       " 73.0,\n",
       " 74.0,\n",
       " 80.0,\n",
       " 79.0,\n",
       " 77.0,\n",
       " 80.0,\n",
       " 76.0,\n",
       " 79.0,\n",
       " 75.0,\n",
       " 79.0,\n",
       " 78.0,\n",
       " 79.0,\n",
       " 78.0,\n",
       " 78.0,\n",
       " 76.0,\n",
       " 74.0,\n",
       " 77.0,\n",
       " 78.0,\n",
       " 79.0,\n",
       " 79.0,\n",
       " 77.0,\n",
       " 80.0,\n",
       " 78.0,\n",
       " 78.0,\n",
       " 78.0,\n",
       " 77.0,\n",
       " 79.0,\n",
       " 79.0,\n",
       " 79.0,\n",
       " 79.0,\n",
       " 75.0,\n",
       " 76.0,\n",
       " 73.0,\n",
       " 72.0,\n",
       " 71.0,\n",
       " 77.0,\n",
       " 79.0,\n",
       " 78.0,\n",
       " 79.0,\n",
       " 77.0,\n",
       " 79.0,\n",
       " 77.0,\n",
       " 78.0,\n",
       " 78.0,\n",
       " 78.0,\n",
       " 78.0,\n",
       " 77.0,\n",
       " 74.0,\n",
       " 75.0,\n",
       " 76.0,\n",
       " 73.0,\n",
       " 76.0,\n",
       " 74.0,\n",
       " 77.0,\n",
       " 76.0,\n",
       " 76.0,\n",
       " 74.0,\n",
       " 75.0,\n",
       " 75.0,\n",
       " 75.0,\n",
       " 75.0,\n",
       " 71.0,\n",
       " 63.0,\n",
       " 70.0,\n",
       " 68.0,\n",
       " 67.0,\n",
       " 77.0,\n",
       " 74.0,\n",
       " 77.0,\n",
       " 76.0,\n",
       " 76.0,\n",
       " 75.0,\n",
       " 76.0,\n",
       " 75.0,\n",
       " 73.0,\n",
       " 75.0,\n",
       " 73.0,\n",
       " 75.0,\n",
       " 74.0,\n",
       " 75.0,\n",
       " 74.0,\n",
       " 75.0,\n",
       " 73.0,\n",
       " 75.0,\n",
       " 73.0,\n",
       " 73.0,\n",
       " 74.0,\n",
       " 70.0,\n",
       " 72.0,\n",
       " 70.0,\n",
       " 67.0,\n",
       " 67.0,\n",
       " 69.0,\n",
       " 70.0,\n",
       " 68.0,\n",
       " 69.0,\n",
       " 69.0,\n",
       " 66.0,\n",
       " 65.0,\n",
       " 68.0,\n",
       " 62.0,\n",
       " 75.0,\n",
       " 70.0,\n",
       " 69.0,\n",
       " 76.0,\n",
       " 76.0,\n",
       " 74.0,\n",
       " 73.0,\n",
       " 71.0,\n",
       " 74.0,\n",
       " 74.0,\n",
       " 72.0,\n",
       " 71.0,\n",
       " 72.0,\n",
       " 74.0,\n",
       " 69.0,\n",
       " 67.0,\n",
       " 72.0,\n",
       " 70.0,\n",
       " 64.0,\n",
       " 63.0,\n",
       " 63.0,\n",
       " 62.0,\n",
       " 70.0,\n",
       " 70.0,\n",
       " 62.0,\n",
       " 62.0,\n",
       " 63.0,\n",
       " 65.0,\n",
       " 69.0,\n",
       " 77.0,\n",
       " 70.0,\n",
       " 74.0,\n",
       " 69.0,\n",
       " 72.0,\n",
       " 71.0,\n",
       " 69.0,\n",
       " 71.0,\n",
       " 71.0,\n",
       " 72.0,\n",
       " 72.0,\n",
       " 69.0,\n",
       " 70.0,\n",
       " 66.0,\n",
       " 65.0,\n",
       " 69.0,\n",
       " 68.0,\n",
       " 68.0,\n",
       " 68.0,\n",
       " 59.0,\n",
       " 60.0,\n",
       " 70.0,\n",
       " 73.0,\n",
       " 75.0,\n",
       " 64.0,\n",
       " 59.0,\n",
       " 59.0,\n",
       " 62.0,\n",
       " 68.0,\n",
       " 70.0,\n",
       " 73.0,\n",
       " 79.0,\n",
       " 75.0,\n",
       " 65.0,\n",
       " 70.0,\n",
       " 74.0,\n",
       " 70.0,\n",
       " 70.0,\n",
       " 71.0,\n",
       " 71.0,\n",
       " 71.0,\n",
       " 69.0,\n",
       " 61.0,\n",
       " 67.0,\n",
       " 65.0,\n",
       " 72.0,\n",
       " 71.0,\n",
       " 73.0,\n",
       " 72.0,\n",
       " 77.0,\n",
       " 73.0,\n",
       " 67.0,\n",
       " 62.0,\n",
       " 64.0,\n",
       " 67.0,\n",
       " 66.0,\n",
       " 81.0,\n",
       " 69.0,\n",
       " 66.0,\n",
       " 67.0,\n",
       " 69.0,\n",
       " 66.0,\n",
       " 68.0,\n",
       " 65.0,\n",
       " 74.0,\n",
       " 69.0,\n",
       " 72.0,\n",
       " 73.0,\n",
       " 72.0,\n",
       " 71.0,\n",
       " 76.0,\n",
       " 77.0,\n",
       " 76.0,\n",
       " 74.0,\n",
       " 68.0,\n",
       " 73.0,\n",
       " 71.0,\n",
       " 74.0,\n",
       " 75.0,\n",
       " 70.0,\n",
       " 67.0,\n",
       " 71.0,\n",
       " 67.0,\n",
       " 74.0,\n",
       " 77.0,\n",
       " 78.0,\n",
       " 67.0,\n",
       " 70.0,\n",
       " 69.0,\n",
       " 69.0,\n",
       " 74.0,\n",
       " 78.0,\n",
       " 71.0,\n",
       " 67.0,\n",
       " 68.0,\n",
       " 67.0,\n",
       " 76.0,\n",
       " 69.0,\n",
       " 72.0,\n",
       " 76.0,\n",
       " 68.0,\n",
       " 72.0,\n",
       " 74.0,\n",
       " 70.0,\n",
       " 67.0,\n",
       " 72.0,\n",
       " 60.0,\n",
       " 65.0,\n",
       " 75.0,\n",
       " 70.0,\n",
       " 75.0,\n",
       " 70.0,\n",
       " 79.0,\n",
       " 75.0,\n",
       " 70.0,\n",
       " 67.0,\n",
       " 74.0,\n",
       " 70.0,\n",
       " 75.0,\n",
       " 76.0,\n",
       " 77.0,\n",
       " 74.0,\n",
       " 74.0,\n",
       " 74.0,\n",
       " 69.0,\n",
       " 68.0,\n",
       " 76.0,\n",
       " 74.0,\n",
       " 71.0,\n",
       " 71.0,\n",
       " 74.0,\n",
       " 74.0,\n",
       " 74.0,\n",
       " 74.0,\n",
       " 80.0,\n",
       " 74.0,\n",
       " 72.0,\n",
       " 75.0,\n",
       " 80.0,\n",
       " 76.0,\n",
       " 76.0,\n",
       " 77.0,\n",
       " 75.0,\n",
       " 75.0,\n",
       " 75.0,\n",
       " 75.0,\n",
       " 72.0,\n",
       " 74.0,\n",
       " 74.0,\n",
       " 74.0,\n",
       " 76.0,\n",
       " 74.0,\n",
       " 75.0,\n",
       " 73.0,\n",
       " 79.0,\n",
       " 75.0,\n",
       " 72.0,\n",
       " 72.0,\n",
       " 74.0,\n",
       " 72.0,\n",
       " 72.0,\n",
       " 77.0,\n",
       " 71.0,\n",
       " 73.0,\n",
       " 76.0,\n",
       " 77.0,\n",
       " 76.0,\n",
       " 76.0,\n",
       " 79.0,\n",
       " 81.0,\n",
       " 76.0,\n",
       " 78.0,\n",
       " 77.0,\n",
       " 74.0,\n",
       " 75.0,\n",
       " 78.0,\n",
       " 78.0,\n",
       " 69.0,\n",
       " 72.0,\n",
       " 74.0,\n",
       " 74.0,\n",
       " 76.0,\n",
       " 80.0,\n",
       " 80.0,\n",
       " 76.0,\n",
       " 76.0,\n",
       " 76.0,\n",
       " 77.0,\n",
       " 77.0,\n",
       " 77.0,\n",
       " 82.0,\n",
       " 75.0,\n",
       " 77.0,\n",
       " 75.0,\n",
       " 76.0,\n",
       " 81.0,\n",
       " 82.0,\n",
       " 81.0,\n",
       " 76.0,\n",
       " 77.0,\n",
       " 82.0,\n",
       " 83.0,\n",
       " 77.0,\n",
       " 77.0,\n",
       " 77.0,\n",
       " 76.0,\n",
       " 76.0,\n",
       " 79.0]"
      ]
     },
     "execution_count": 36,
     "metadata": {},
     "output_type": "execute_result"
    }
   ],
   "source": [
    "# Using the most active station id\n",
    "# Query the last 12 months of temperature observation data for this station and plot the results as a histogram\n",
    "last_date = session.query(Measurement.date).\\\n",
    "    filter(Measurement.station == activestationid).\\\n",
    "    order_by(Measurement.date.desc()).\\\n",
    "    first()\n",
    "last_date[0]\n",
    "\n",
    "datelast_date=dt.datetime.strptime(last_date[0], '%Y-%m-%d')\n",
    "year_agoMA = dt.date(year=datelast_date.year - 1, month=datelast_date.month, day=datelast_date.day)\n",
    "year_agoMA\n",
    "\n",
    "temperature = session.query(Measurement.tobs).\\\n",
    "    filter(Measurement.station == activestationid).\\\n",
    "    filter(Measurement.date >= year_agoMA).\\\n",
    "    all()\n",
    "temperature\n",
    "temperaturelist=[temp[0] for temp in temperature]\n",
    "temperaturelist"
   ]
  },
  {
   "cell_type": "code",
   "execution_count": 37,
   "metadata": {},
   "outputs": [
    {
     "data": {
      "image/png": "[encoded data removed]",
      "text/plain": [
       "<Figure size 640x480 with 1 Axes>"
      ]
     },
     "metadata": {},
     "output_type": "display_data"
    }
   ],
   "source": [
    "plt.hist(temperaturelist, bins=12, label='tobs')\n",
    "plt.xlabel('Temperature')\n",
    "plt.ylabel('Frequency')\n",
    "plt.legend()\n",
    "plt.show()"
   ]
  },
  {
   "cell_type": "markdown",
   "metadata": {},
   "source": [
    "# Close Session"
   ]
  },
  {
   "cell_type": "code",
   "execution_count": 38,
   "metadata": {},
   "outputs": [],
   "source": [
    "# Close Session\n",
    "session.close()"
   ]
  },
  {
   "cell_type": "code",
   "execution_count": null,
   "metadata": {},
   "outputs": [],
   "source": []
  }
 ],
 "metadata": {
  "anaconda-cloud": {},
  "kernel_info": {
   "name": "python3"
  },
  "kernelspec": {
   "display_name": "Python 3 (ipykernel)",
   "language": "python",
   "name": "python3"
  },
  "language_info": {
   "codemirror_mode": {
    "name": "ipython",
    "version": 3
   },
   "file_extension": ".py",
   "mimetype": "text/x-python",
   "name": "python",
   "nbconvert_exporter": "python",
   "pygments_lexer": "ipython3",
   "version": "3.10.13"
  },
  "nteract": {
   "version": "0.12.3"
  },
  "varInspector": {
   "cols": {
    "lenName": 16,
    "lenType": 16,
    "lenVar": 40
   },
   "kernels_config": {
    "python": {
     "delete_cmd_postfix": "",
     "delete_cmd_prefix": "del ",
     "library": "var_list.py",
     "varRefreshCmd": "print(var_dic_list())"
    },
    "r": {
     "delete_cmd_postfix": ") ",
     "delete_cmd_prefix": "rm(",
     "library": "var_list.r",
     "varRefreshCmd": "cat(var_dic_list()) "
    }
   },
   "types_to_exclude": [
    "module",
    "function",
    "builtin_function_or_method",
    "instance",
    "_Feature"
   ],
   "window_display": false
  }
 },
 "nbformat": 4,
 "nbformat_minor": 2
}
